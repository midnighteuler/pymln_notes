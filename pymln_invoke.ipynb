{
 "metadata": {
  "name": "",
  "signature": "sha256:51f79d137614a51bd87a9362a84921f906682078eefc950b31635ca57507829a"
 },
 "nbformat": 3,
 "nbformat_minor": 0,
 "worksheets": [
  {
   "cells": [
    {
     "cell_type": "code",
     "collapsed": false,
     "input": [
      "import sys\n",
      "sys.path.append(\"/Users/mlsouza/projects/ProbCog/python\")\n",
      "import MLN"
     ],
     "language": "python",
     "metadata": {},
     "outputs": [],
     "prompt_number": 3
    },
    {
     "cell_type": "markdown",
     "metadata": {},
     "source": [
      "## Learning"
     ]
    },
    {
     "cell_type": "code",
     "collapsed": false,
     "input": [
      "MLN.ParameterLearningMeasures.getNames()"
     ],
     "language": "python",
     "metadata": {},
     "outputs": [
      {
       "metadata": {},
       "output_type": "pyout",
       "prompt_number": 4,
       "text": [
        "['[discriminative] pseudo-log-likelihood',\n",
        " '[soft evidence] error with independent soft evidence and weighting of worlds',\n",
        " 'pseudo-log-likelihood with blocking',\n",
        " 'pseudo-log-likelihood with blocking and fixed unitary clauses [deprecated]',\n",
        " '[soft evidence][discriminative] pseudo-log-likelihood with soft features (indep. soft ev.)',\n",
        " '[soft evidence] pseudo-log-likelihood with soft features (independent soft evidence)',\n",
        " 'log-likelihood',\n",
        " 'pseudo-log-likelihood with fixed unitary clauses [deprecated]',\n",
        " 'pseudo-log-likelihood with blocking (custom grounding)',\n",
        " '[soft evidence] log-likelihood with independent soft evidence and weighting of worlds',\n",
        " '[soft evidence] sampling-based log-likelihood',\n",
        " 'negative pseudo-likelihood with fixed unitary clauses [deprecated]',\n",
        " '[soft evidence] sampling-based log-likelihood via diagonal Newton',\n",
        " '[soft evidence] log-likelihood with soft features (independent soft evidence)',\n",
        " 'pseudo-log-likelihood',\n",
        " 'sampling-based log-likelihood via diagonal Newton']"
       ]
      }
     ],
     "prompt_number": 4
    },
    {
     "cell_type": "code",
     "collapsed": false,
     "input": [
      "import tempfile\n",
      "mlnfp = tempfile.NamedTemporaryFile(delete=False)\n",
      "mlnfp.close()\n",
      "queryfp = tempfile.NamedTemporaryFile(delete=False)\n",
      "queryfp.close()"
     ],
     "language": "python",
     "metadata": {},
     "outputs": [],
     "prompt_number": 10
    },
    {
     "cell_type": "code",
     "collapsed": false,
     "input": [
      "mln_file = '''\n",
      "alarm(person)\n",
      "burglary(person)\n",
      "neighborhood(person,domNeighborhood!)\n",
      "livesIn(person,place!)\n",
      "tornado(place)\n",
      "\n",
      "domNeighborhood = {Good, Bad, Average}\n",
      "person = {James,Stefan}\n",
      "place = {Freiburg,Yorkshire,Austin}\n",
      "\n",
      "2.2 burglary(x) => alarm(x)\n",
      "2.2 livesIn(x,y) ^ tornado(y) => alarm(x)\n",
      "0.4 neighborhood(x,Bad) => burglary(x)\n",
      "-0.4 neighborhood(x,Average) => burglary(x)\n",
      "-0.8 neighborhood(x,Good) => burglary(x)\n",
      "'''\n",
      "f = open(mlnfp.name, 'w')\n",
      "f.write(mln_file)\n",
      "f.close()"
     ],
     "language": "python",
     "metadata": {},
     "outputs": [],
     "prompt_number": 11
    },
    {
     "cell_type": "code",
     "collapsed": false,
     "input": [
      "query_file = '''\n",
      "livesIn(James,Yorkshire)=True\n",
      "livesIn(Stefan,Freiburg)=True\n",
      "burglary(James)=True\n",
      "tornado(Freiburg)=True\n",
      "neighborhood(James)=Average\n",
      "neighborhood(Stefan)=Bad\n",
      "'''\n",
      "f = open(queryfp.name, 'w')\n",
      "f.write(query_file)\n",
      "f.close()"
     ],
     "language": "python",
     "metadata": {},
     "outputs": [],
     "prompt_number": 12
    },
    {
     "cell_type": "code",
     "collapsed": false,
     "input": [
      "settings = {\n",
      "    'addUnitClauses': 0,\n",
      "    'db': queryfp.name,\n",
      "    'engine': 'internal',\n",
      "    'geometry': '760x824+5+27',\n",
      "    'method': '[discriminative] pseudo-log-likelihood',\n",
      "    'method1': '[discriminative] pseudo-log-likelihood',\n",
      "    'mln': fp.name,\n",
      "    'nePreds': '',\n",
      "    'output_filename': 'wts.pydpll.query2-alarm-kreator.mln',\n",
      "    'params': '',\n",
      "    'params1': '',\n",
      "    'pattern': '',\n",
      "    'priorStdDev': '100',\n",
      "    'run': False,\n",
      "    'usePrior': 0\n",
      "}\n",
      "params = settings[\"params\"]\n",
      "args = {\"initialWts\":False}\n",
      "if type(params) == str:\n",
      "    params = eval(\"dict(%s)\" % params)\n",
      "elif type(params) != dict:\n",
      "    raise(\"Argument 'params' must be string or a dictionary\")\n",
      "args.update(params) # add additional parameters\n",
      "discriminative = \"discriminative\" in settings['method']\n",
      "if discriminative:\n",
      "    args[\"queryPreds\"] = settings[\"nePreds\"].split(\",\")\n",
      "if settings[\"usePrior\"]:\n",
      "    args[\"gaussianPriorSigma\"] = float(settings[\"priorStdDev\"])\n",
      "\n",
      "\n",
      "mln = MLN.MLN(filename_or_list=settings[\"mln\"], verbose=True)"
     ],
     "language": "python",
     "metadata": {},
     "outputs": [
      {
       "output_type": "stream",
       "stream": "stdout",
       "text": [
        "reading MLN...\n"
       ]
      }
     ],
     "prompt_number": 26
    },
    {
     "cell_type": "code",
     "collapsed": false,
     "input": [
      "mln.learnWeights([settings['db']],\n",
      "                 method=MLN.ParameterLearningMeasures.byName(settings['method']),\n",
      "                 **args)"
     ],
     "language": "python",
     "metadata": {},
     "outputs": [
      {
       "ename": "TypeError",
       "evalue": "'NoneType' object is not callable",
       "output_type": "pyerr",
       "traceback": [
        "\u001b[0;31m---------------------------------------------------------------------------\u001b[0m\n\u001b[0;31mTypeError\u001b[0m                                 Traceback (most recent call last)",
        "\u001b[0;32m<ipython-input-27-86c5f2997c10>\u001b[0m in \u001b[0;36m<module>\u001b[0;34m()\u001b[0m\n\u001b[1;32m      2\u001b[0m \u001b[0;31m#                  method=MLN.ParameterLearningMeasures.byName(settings['method']),\u001b[0m\u001b[0;34m\u001b[0m\u001b[0;34m\u001b[0m\u001b[0m\n\u001b[1;32m      3\u001b[0m \u001b[0;31m#                  **args)\u001b[0m\u001b[0;34m\u001b[0m\u001b[0;34m\u001b[0m\u001b[0m\n\u001b[0;32m----> 4\u001b[0;31m \u001b[0;32mfor\u001b[0m \u001b[0mresult\u001b[0m \u001b[0;32min\u001b[0m \u001b[0mmln\u001b[0m\u001b[0;34m.\u001b[0m\u001b[0mquery\u001b[0m\u001b[0;34m(\u001b[0m\u001b[0;34m\"Smokes(Anna)\"\u001b[0m\u001b[0;34m,\u001b[0m \u001b[0;34m[\u001b[0m\u001b[0;34m\"Smokes(Bob)\"\u001b[0m\u001b[0;34m,\u001b[0m \u001b[0;34m\"Friends(Anna,Bob)\"\u001b[0m\u001b[0;34m]\u001b[0m\u001b[0;34m,\u001b[0m \u001b[0mverbose\u001b[0m\u001b[0;34m=\u001b[0m\u001b[0mFalse\u001b[0m\u001b[0;34m)\u001b[0m\u001b[0;34m:\u001b[0m\u001b[0;34m\u001b[0m\u001b[0m\n\u001b[0m\u001b[1;32m      5\u001b[0m     \u001b[0;32mprint\u001b[0m \u001b[0mresult\u001b[0m\u001b[0;34m\u001b[0m\u001b[0m\n",
        "\u001b[0;31mTypeError\u001b[0m: 'NoneType' object is not callable"
       ]
      }
     ],
     "prompt_number": 27
    },
    {
     "cell_type": "markdown",
     "metadata": {},
     "source": [
      "## Querying"
     ]
    },
    {
     "cell_type": "code",
     "collapsed": false,
     "input": [],
     "language": "python",
     "metadata": {},
     "outputs": []
    }
   ],
   "metadata": {}
  }
 ]
}